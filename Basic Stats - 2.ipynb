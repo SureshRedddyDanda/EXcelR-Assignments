{
 "cells": [
  {
   "cell_type": "code",
   "execution_count": 1,
   "id": "7dab8d27",
   "metadata": {},
   "outputs": [],
   "source": [
    "import numpy as np\n",
    "import scipy.stats as stats"
   ]
  },
  {
   "cell_type": "code",
   "execution_count": 8,
   "id": "57cd9ae9",
   "metadata": {},
   "outputs": [
    {
     "data": {
      "text/plain": [
       "15"
      ]
     },
     "execution_count": 8,
     "metadata": {},
     "output_type": "execute_result"
    }
   ],
   "source": [
    "# Data\n",
    "data = np.array([1.13, 1.55, 1.43, 0.92, 1.25, 1.36, 1.32, 0.85, 1.07, 1.48, 1.20, 1.33, 1.18, 1.22, 1.29])\n",
    "len=len(data)\n",
    "len"
   ]
  },
  {
   "cell_type": "code",
   "execution_count": 11,
   "id": "7275a4ac",
   "metadata": {},
   "outputs": [
    {
     "data": {
      "text/plain": [
       "1.2386666666666666"
      ]
     },
     "execution_count": 11,
     "metadata": {},
     "output_type": "execute_result"
    }
   ],
   "source": [
    "# Sample mean\n",
    "mean = np.mean(data)\n",
    "mean"
   ]
  },
  {
   "cell_type": "markdown",
   "id": "e9311a59",
   "metadata": {},
   "source": [
    "### a. Build 99% Confidence Interval Using Sample Standard Deviation"
   ]
  },
  {
   "cell_type": "code",
   "execution_count": 12,
   "id": "2b037678",
   "metadata": {},
   "outputs": [
    {
     "data": {
      "text/plain": [
       "0.19316412956959936"
      ]
     },
     "execution_count": 12,
     "metadata": {},
     "output_type": "execute_result"
    }
   ],
   "source": [
    "# Sample standard deviation\n",
    "std_dev = np.std(data, ddof=1)# ddof=1 for sample standard deviation\n",
    "std_dev"
   ]
  },
  {
   "cell_type": "code",
   "execution_count": 15,
   "id": "f5f2bb4c",
   "metadata": {},
   "outputs": [],
   "source": [
    "# Degrees of freedom\n",
    "df = n - 1\n",
    "\n",
    "# Confidence level\n",
    "confidence = 0.99"
   ]
  },
  {
   "cell_type": "code",
   "execution_count": 16,
   "id": "1fecee4a",
   "metadata": {},
   "outputs": [
    {
     "data": {
      "text/plain": [
       "2.97684273411266"
      ]
     },
     "execution_count": 16,
     "metadata": {},
     "output_type": "execute_result"
    }
   ],
   "source": [
    "# t-critical value for 99% confidence and n-1 degrees of freedom\n",
    "t_critical = stats.t.ppf((1 + confidence) / 2, df)\n",
    "t_critical"
   ]
  },
  {
   "cell_type": "code",
   "execution_count": 18,
   "id": "7a77199f",
   "metadata": {},
   "outputs": [
    {
     "data": {
      "text/plain": [
       "0.1484693282152996"
      ]
     },
     "execution_count": 18,
     "metadata": {},
     "output_type": "execute_result"
    }
   ],
   "source": [
    "# Margin of error\n",
    "margin_of_error = t_critical * (std_dev / np.sqrt(n))\n",
    "margin_of_error"
   ]
  },
  {
   "cell_type": "code",
   "execution_count": 19,
   "id": "96da0849",
   "metadata": {},
   "outputs": [],
   "source": [
    "# Confidence interval\n",
    "lower_bound = mean - margin_of_error\n",
    "upper_bound = mean + margin_of_error\n"
   ]
  },
  {
   "cell_type": "code",
   "execution_count": 20,
   "id": "d2081647",
   "metadata": {},
   "outputs": [
    {
     "data": {
      "text/plain": [
       "1.090197338451367"
      ]
     },
     "execution_count": 20,
     "metadata": {},
     "output_type": "execute_result"
    }
   ],
   "source": [
    "lower_bound"
   ]
  },
  {
   "cell_type": "code",
   "execution_count": 21,
   "id": "b992c7dc",
   "metadata": {},
   "outputs": [
    {
     "data": {
      "text/plain": [
       "1.3871359948819662"
      ]
     },
     "execution_count": 21,
     "metadata": {},
     "output_type": "execute_result"
    }
   ],
   "source": [
    "upper_bound"
   ]
  },
  {
   "cell_type": "code",
   "execution_count": 25,
   "id": "93a3c646",
   "metadata": {},
   "outputs": [
    {
     "name": "stdout",
     "output_type": "stream",
     "text": [
      "Sample Mean: 1.239\n",
      "Sample Standard Deviation: 0.193\n",
      "t-Critical Value: 2.977\n",
      "Margin of Error: 0.148\n",
      "99% Confidence Interval Using Sample Standard Deviation: (1.090, 1.387)\n"
     ]
    }
   ],
   "source": [
    "# Output results\n",
    "print(f\"Sample Mean: {mean:.3f}\")\n",
    "print(f\"Sample Standard Deviation: {std_dev:.3f}\")\n",
    "print(f\"t-Critical Value: {t_critical:.3f}\")\n",
    "print(f\"Margin of Error: {margin_of_error:.3f}\")\n",
    "print(f\"99% Confidence Interval Using Sample Standard Deviation: ({lower_bound:.3f}, {upper_bound:.3f})\")\n"
   ]
  },
  {
   "cell_type": "markdown",
   "id": "4dca067e",
   "metadata": {},
   "source": [
    "### b. Build 99% Confidence Interval Using Known Population Standard Deviation"
   ]
  },
  {
   "cell_type": "code",
   "execution_count": 26,
   "id": "a2ae3e8a",
   "metadata": {},
   "outputs": [],
   "source": [
    "# Known population standard deviation\n",
    "population_std_dev = 0.2\n",
    "\n",
    "# Confidence level\n",
    "confidence = 0.99\n"
   ]
  },
  {
   "cell_type": "code",
   "execution_count": 27,
   "id": "e5ce39e2",
   "metadata": {},
   "outputs": [
    {
     "data": {
      "text/plain": [
       "2.5758293035489004"
      ]
     },
     "execution_count": 27,
     "metadata": {},
     "output_type": "execute_result"
    }
   ],
   "source": [
    "# z-critical value for 99% confidence\n",
    "z_critical = stats.norm.ppf((1 + confidence) / 2)\n",
    "z_critical"
   ]
  },
  {
   "cell_type": "code",
   "execution_count": 28,
   "id": "54557044",
   "metadata": {},
   "outputs": [
    {
     "data": {
      "text/plain": [
       "0.13301525327090588"
      ]
     },
     "execution_count": 28,
     "metadata": {},
     "output_type": "execute_result"
    }
   ],
   "source": [
    "# Margin of error\n",
    "margin_of_error = z_critical * (population_std_dev / np.sqrt(n))\n",
    "margin_of_error"
   ]
  },
  {
   "cell_type": "code",
   "execution_count": 29,
   "id": "27074d22",
   "metadata": {},
   "outputs": [],
   "source": [
    "# Confidence interval\n",
    "lower_bound = mean - margin_of_error\n",
    "upper_bound = mean + margin_of_error\n"
   ]
  },
  {
   "cell_type": "code",
   "execution_count": 30,
   "id": "e5f19241",
   "metadata": {},
   "outputs": [
    {
     "data": {
      "text/plain": [
       "1.1056514133957607"
      ]
     },
     "execution_count": 30,
     "metadata": {},
     "output_type": "execute_result"
    }
   ],
   "source": [
    "lower_bound"
   ]
  },
  {
   "cell_type": "code",
   "execution_count": 31,
   "id": "3505f5c1",
   "metadata": {},
   "outputs": [
    {
     "data": {
      "text/plain": [
       "1.3716819199375725"
      ]
     },
     "execution_count": 31,
     "metadata": {},
     "output_type": "execute_result"
    }
   ],
   "source": [
    "upper_bound"
   ]
  },
  {
   "cell_type": "code",
   "execution_count": 32,
   "id": "f47aa895",
   "metadata": {},
   "outputs": [
    {
     "name": "stdout",
     "output_type": "stream",
     "text": [
      "Sample Mean: 1.239\n",
      "Known Population Standard Deviation: 0.200\n",
      "z-Critical Value: 2.576\n",
      "Margin of Error: 0.133\n",
      "99% Confidence Interval Using Known Population Standard Deviation: (1.106, 1.372)\n"
     ]
    }
   ],
   "source": [
    "# Output results\n",
    "print(f\"Sample Mean: {mean:.3f}\")\n",
    "print(f\"Known Population Standard Deviation: {population_std_dev:.3f}\")\n",
    "print(f\"z-Critical Value: {z_critical:.3f}\")\n",
    "print(f\"Margin of Error: {margin_of_error:.3f}\")\n",
    "print(f\"99% Confidence Interval Using Known Population Standard Deviation: ({lower_bound:.3f}, {upper_bound:.3f})\")"
   ]
  },
  {
   "cell_type": "code",
   "execution_count": null,
   "id": "04293c07",
   "metadata": {},
   "outputs": [],
   "source": []
  }
 ],
 "metadata": {
  "kernelspec": {
   "display_name": "Python 3 (ipykernel)",
   "language": "python",
   "name": "python3"
  },
  "language_info": {
   "codemirror_mode": {
    "name": "ipython",
    "version": 3
   },
   "file_extension": ".py",
   "mimetype": "text/x-python",
   "name": "python",
   "nbconvert_exporter": "python",
   "pygments_lexer": "ipython3",
   "version": "3.9.12"
  }
 },
 "nbformat": 4,
 "nbformat_minor": 5
}
